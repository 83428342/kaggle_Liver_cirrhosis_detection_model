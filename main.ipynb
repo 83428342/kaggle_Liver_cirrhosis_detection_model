{
 "cells": [
  {
   "cell_type": "code",
   "execution_count": 1,
   "id": "9aca3124",
   "metadata": {
    "_cell_guid": "b1076dfc-b9ad-4769-8c92-a6c4dae69d19",
    "_uuid": "8f2839f25d086af736a60e9eeb907d3b93b6e0e5",
    "execution": {
     "iopub.execute_input": "2024-11-05T03:16:05.647900Z",
     "iopub.status.busy": "2024-11-05T03:16:05.647487Z",
     "iopub.status.idle": "2024-11-05T03:16:06.521018Z",
     "shell.execute_reply": "2024-11-05T03:16:06.519689Z"
    },
    "papermill": {
     "duration": 0.880352,
     "end_time": "2024-11-05T03:16:06.523689",
     "exception": false,
     "start_time": "2024-11-05T03:16:05.643337",
     "status": "completed"
    },
    "tags": []
   },
   "outputs": [
    {
     "name": "stdout",
     "output_type": "stream",
     "text": [
      "/kaggle/input/becauseofliver/sample_submission.csv\n",
      "/kaggle/input/becauseofliver/train.csv\n",
      "/kaggle/input/becauseofliver/test.csv\n"
     ]
    }
   ],
   "source": [
    "# This Python 3 environment comes with many helpful analytics libraries installed\n",
    "# It is defined by the kaggle/python Docker image: https://github.com/kaggle/docker-python\n",
    "# For example, here's several helpful packages to load\n",
    "\n",
    "import numpy as np # linear algebra\n",
    "import pandas as pd # data processing, CSV file I/O (e.g. pd.read_csv)\n",
    "\n",
    "# Input data files are available in the read-only \"../input/\" directory\n",
    "# For example, running this (by clicking run or pressing Shift+Enter) will list all files under the input directory\n",
    "\n",
    "import os\n",
    "for dirname, _, filenames in os.walk('/kaggle/input'):\n",
    "    for filename in filenames:\n",
    "        print(os.path.join(dirname, filename))\n",
    "\n",
    "# You can write up to 20GB to the current directory (/kaggle/working/) that gets preserved as output when you create a version using \"Save & Run All\" \n",
    "# You can also write temporary files to /kaggle/temp/, but they won't be saved outside of the current session"
   ]
  },
  {
   "cell_type": "code",
   "execution_count": 2,
   "id": "d812d30e",
   "metadata": {
    "execution": {
     "iopub.execute_input": "2024-11-05T03:16:06.530657Z",
     "iopub.status.busy": "2024-11-05T03:16:06.530090Z",
     "iopub.status.idle": "2024-11-05T03:16:08.972569Z",
     "shell.execute_reply": "2024-11-05T03:16:08.971327Z"
    },
    "papermill": {
     "duration": 2.448896,
     "end_time": "2024-11-05T03:16:08.975298",
     "exception": false,
     "start_time": "2024-11-05T03:16:06.526402",
     "status": "completed"
    },
    "tags": []
   },
   "outputs": [],
   "source": [
    "# 라이브러리 임포트\n",
    "import matplotlib.pyplot as plt\n",
    "import seaborn as sns\n",
    "\n",
    "from sklearn.model_selection import train_test_split\n",
    "from sklearn.preprocessing import OneHotEncoder, StandardScaler\n",
    "from sklearn.ensemble import GradientBoostingClassifier\n",
    "from sklearn.metrics import accuracy_score, confusion_matrix\n",
    "\n",
    "# 데이터 로드\n",
    "train = pd.read_csv('/kaggle/input/becauseofliver/train.csv')\n",
    "test = pd.read_csv('/kaggle/input/becauseofliver/test.csv')\n",
    "\n",
    "# 피처와 라벨 분리 (id 컬럼 및 Sex 제거)\n",
    "X = train.drop(['Status', 'id', 'Sex'], axis=1)\n",
    "y = train['Status']\n",
    "\n",
    "# 범주형 피처 정의\n",
    "categorical_features = ['Drug', 'Ascites', 'Hepatomegaly', 'Spiders', 'Edema']\n",
    "\n",
    "# 수치형 피처 정의\n",
    "numerical_features = [col for col in X.columns if col not in categorical_features]\n",
    "\n",
    "# 데이터 분할 (학습 70%, 테스트 30%)\n",
    "X_train, X_test, y_train, y_test = train_test_split(X, y, test_size=0.01, random_state=42)\n",
    "\n",
    "# OneHotEncoder 학습 데이터에 피팅\n",
    "encoder = OneHotEncoder(drop='first', sparse_output=False)\n",
    "encoder.fit(X_train[categorical_features])\n",
    "\n",
    "# 학습 데이터 인코딩\n",
    "encoded_train = pd.DataFrame(encoder.transform(X_train[categorical_features]), columns=encoder.get_feature_names_out(categorical_features))\n",
    "X_train_num = X_train[numerical_features].reset_index(drop=True)\n",
    "X_train_encoded = pd.concat([X_train_num, encoded_train.reset_index(drop=True)], axis=1)\n",
    "\n",
    "# 테스트 데이터 인코딩\n",
    "encoded_test = pd.DataFrame(encoder.transform(X_test[categorical_features]), columns=encoder.get_feature_names_out(categorical_features))\n",
    "X_test_num = X_test[numerical_features].reset_index(drop=True)\n",
    "X_test_encoded = pd.concat([X_test_num, encoded_test.reset_index(drop=True)], axis=1)\n",
    "\n",
    "# 제출용 테스트 데이터에서 Sex 제거\n",
    "test_features = test.drop(['id', 'Sex'], axis=1)\n",
    "encoded_test_submission = pd.DataFrame(encoder.transform(test_features[categorical_features]), columns=encoder.get_feature_names_out(categorical_features))\n",
    "test_num = test_features[numerical_features].reset_index(drop=True)\n",
    "test_features_encoded = pd.concat([test_num, encoded_test_submission.reset_index(drop=True)], axis=1)\n",
    "\n",
    "# 스케일러 선택 및 학습 데이터에 피팅\n",
    "scaler = StandardScaler()\n",
    "scaler.fit(X_train_encoded[numerical_features])\n",
    "\n",
    "# 학습 데이터 스케일링\n",
    "X_train_scaled = X_train_encoded.copy()\n",
    "X_train_scaled[numerical_features] = scaler.transform(X_train_encoded[numerical_features])\n",
    "\n",
    "# 테스트 데이터 스케일링\n",
    "X_test_scaled = X_test_encoded.copy()\n",
    "X_test_scaled[numerical_features] = scaler.transform(X_test_encoded[numerical_features])\n",
    "\n",
    "# 제출용 데이터 스케일링\n",
    "test_features_scaled = test_features_encoded.copy()\n",
    "test_features_scaled[numerical_features] = scaler.transform(test_features_encoded[numerical_features])"
   ]
  },
  {
   "cell_type": "code",
   "execution_count": 3,
   "id": "91e0c3bf",
   "metadata": {
    "execution": {
     "iopub.execute_input": "2024-11-05T03:16:08.981701Z",
     "iopub.status.busy": "2024-11-05T03:16:08.981232Z",
     "iopub.status.idle": "2024-11-05T03:16:22.072808Z",
     "shell.execute_reply": "2024-11-05T03:16:22.071584Z"
    },
    "papermill": {
     "duration": 13.097802,
     "end_time": "2024-11-05T03:16:22.075399",
     "exception": false,
     "start_time": "2024-11-05T03:16:08.977597",
     "status": "completed"
    },
    "tags": []
   },
   "outputs": [
    {
     "name": "stdout",
     "output_type": "stream",
     "text": [
      "Test Accuracy: 90.00%\n"
     ]
    },
    {
     "data": {
      "image/png": "[encoded data removed]",
      "text/plain": [
       "<Figure size 800x600 with 1 Axes>"
      ]
     },
     "metadata": {},
     "output_type": "display_data"
    },
    {
     "name": "stdout",
     "output_type": "stream",
     "text": [
      "Baseline submission file created: submission.csv\n"
     ]
    },
    {
     "data": {
      "text/html": [
       "<div>\n",
       "<style scoped>\n",
       "    .dataframe tbody tr th:only-of-type {\n",
       "        vertical-align: middle;\n",
       "    }\n",
       "\n",
       "    .dataframe tbody tr th {\n",
       "        vertical-align: top;\n",
       "    }\n",
       "\n",
       "    .dataframe thead th {\n",
       "        text-align: right;\n",
       "    }\n",
       "</style>\n",
       "<table border=\"1\" class=\"dataframe\">\n",
       "  <thead>\n",
       "    <tr style=\"text-align: right;\">\n",
       "      <th></th>\n",
       "      <th>id</th>\n",
       "      <th>LiverStatus_C</th>\n",
       "      <th>LiverStatus_CL</th>\n",
       "      <th>LiverStatus_D</th>\n",
       "    </tr>\n",
       "  </thead>\n",
       "  <tbody>\n",
       "    <tr>\n",
       "      <th>0</th>\n",
       "      <td>7905</td>\n",
       "      <td>0.534737</td>\n",
       "      <td>0.094312</td>\n",
       "      <td>0.370951</td>\n",
       "    </tr>\n",
       "    <tr>\n",
       "      <th>1</th>\n",
       "      <td>7906</td>\n",
       "      <td>0.609970</td>\n",
       "      <td>0.180141</td>\n",
       "      <td>0.209889</td>\n",
       "    </tr>\n",
       "    <tr>\n",
       "      <th>2</th>\n",
       "      <td>7907</td>\n",
       "      <td>0.042414</td>\n",
       "      <td>0.023669</td>\n",
       "      <td>0.933917</td>\n",
       "    </tr>\n",
       "    <tr>\n",
       "      <th>3</th>\n",
       "      <td>7908</td>\n",
       "      <td>0.959256</td>\n",
       "      <td>0.003268</td>\n",
       "      <td>0.037476</td>\n",
       "    </tr>\n",
       "    <tr>\n",
       "      <th>4</th>\n",
       "      <td>7909</td>\n",
       "      <td>0.795277</td>\n",
       "      <td>0.052153</td>\n",
       "      <td>0.152570</td>\n",
       "    </tr>\n",
       "  </tbody>\n",
       "</table>\n",
       "</div>"
      ],
      "text/plain": [
       "     id  LiverStatus_C  LiverStatus_CL  LiverStatus_D\n",
       "0  7905       0.534737        0.094312       0.370951\n",
       "1  7906       0.609970        0.180141       0.209889\n",
       "2  7907       0.042414        0.023669       0.933917\n",
       "3  7908       0.959256        0.003268       0.037476\n",
       "4  7909       0.795277        0.052153       0.152570"
      ]
     },
     "execution_count": 3,
     "metadata": {},
     "output_type": "execute_result"
    }
   ],
   "source": [
    "# 모델 학습\n",
    "model = GradientBoostingClassifier(\n",
    "    n_estimators=200,       # 트리의 개수\n",
    "    learning_rate=0.05,     # 학습률\n",
    "    max_depth=4,            # 트리의 최대 깊이\n",
    "    min_samples_split=3,    # 노드 분할을 위한 최소 샘플 수\n",
    "    min_samples_leaf=2,     # 리프 노드의 최소 샘플 수\n",
    "    subsample=0.8,          # 각 단계에서 사용할 샘플 비율\n",
    "    random_state=42         # 랜덤 시드\n",
    ")\n",
    "model.fit(X_train_scaled, y_train)\n",
    "\n",
    "# 테스트 세트로 모델 평가\n",
    "y_pred_test = model.predict(X_test_scaled)\n",
    "test_accuracy = accuracy_score(y_test, y_pred_test)\n",
    "conf_matrix = confusion_matrix(y_test, y_pred_test)\n",
    "\n",
    "print(f'Test Accuracy: {test_accuracy * 100:.2f}%')\n",
    "\n",
    "# 혼동 행렬 시각화\n",
    "plt.figure(figsize=(8, 6))\n",
    "sns.heatmap(conf_matrix, annot=True, fmt='d', cmap='Blues', cbar=False,\n",
    "            xticklabels=np.unique(y_train), yticklabels=np.unique(y_train))\n",
    "plt.title('Confusion Matrix')\n",
    "plt.xlabel('Predicted Label')\n",
    "plt.ylabel('True Label')\n",
    "plt.show()\n",
    "\n",
    "# 제출용 예측 생성\n",
    "final_predictions_proba = model.predict_proba(test_features_scaled)\n",
    "\n",
    "# 예측 결과를 DataFrame으로 변환\n",
    "submission = pd.DataFrame(final_predictions_proba, columns=[f'LiverStatus_{cls}' for cls in model.classes_])\n",
    "\n",
    "# 'id' 컬럼 추가\n",
    "submission['id'] = test['id']\n",
    "\n",
    "# 컬럼 순서 재정렬\n",
    "submission = submission[['id'] + [col for col in submission.columns if col != 'id']]\n",
    "\n",
    "# 제출 파일 저장\n",
    "submission.to_csv('submission.csv', index=False)\n",
    "\n",
    "print('Baseline submission file created: submission.csv')\n",
    "submission.head()"
   ]
  }
 ],
 "metadata": {
  "kaggle": {
   "accelerator": "none",
   "dataSources": [
    {
     "databundleVersionId": 9994600,
     "sourceId": 87556,
     "sourceType": "competition"
    }
   ],
   "dockerImageVersionId": 30786,
   "isGpuEnabled": false,
   "isInternetEnabled": false,
   "language": "python",
   "sourceType": "notebook"
  },
  "kernelspec": {
   "display_name": "Python 3",
   "language": "python",
   "name": "python3"
  },
  "language_info": {
   "codemirror_mode": {
    "name": "ipython",
    "version": 3
   },
   "file_extension": ".py",
   "mimetype": "text/x-python",
   "name": "python",
   "nbconvert_exporter": "python",
   "pygments_lexer": "ipython3",
   "version": "3.10.14"
  },
  "papermill": {
   "default_parameters": {},
   "duration": 20.019027,
   "end_time": "2024-11-05T03:16:22.800149",
   "environment_variables": {},
   "exception": null,
   "input_path": "__notebook__.ipynb",
   "output_path": "__notebook__.ipynb",
   "parameters": {},
   "start_time": "2024-11-05T03:16:02.781122",
   "version": "2.6.0"
  }
 },
 "nbformat": 4,
 "nbformat_minor": 5
}
